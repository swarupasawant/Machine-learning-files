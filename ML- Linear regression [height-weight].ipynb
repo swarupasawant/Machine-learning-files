{
 "cells": [
  {
   "cell_type": "code",
   "execution_count": null,
   "id": "6e0c89a1",
   "metadata": {},
   "outputs": [],
   "source": [
    "# -*- coding: utf-8 -*-\n",
    "\"\"\"\n",
    "Created on Fri Nov 22 11:24:57 2019\n",
    "\n",
    "@author: Swarupa\n",
    "\"\"\"\n",
    "\n",
    "import numpy as np\n",
    "import matplotlib.pyplot as plt\n",
    "\n",
    "#linear regression\n",
    "\n",
    "def model (x,y):\n",
    "    n=len(x)\n",
    "    b1=(n*(sum(x*y))-sum(x)*sum(y))/(n*sum(x**2)-(sum(x))**2)\n",
    "    print(b1)\n",
    "    \n",
    "    b0=(sum(y)-b1*sum(x))/n\n",
    "    print(b0)   \n",
    "    \n",
    "    y_pred=b0+b1*x \n",
    "    return(y_pred)\n",
    "    \n",
    "x=np.array([43,21,25,42,57,59])\n",
    "y=np.array([99,65,79,75,87,81])\n",
    "\n",
    "y_hat=model(x,y) # prediction\n",
    "print(y_hat)\n",
    "\n",
    "plt.scatter(x,y,color='red')\n",
    "plt.scatter(x,y_hat,color='green')\n",
    "plt.plot(x,y_hat,color='yellow')\n",
    "#y_pred = model.predict(x)\n",
    "\n",
    "from sklearn.metrics import r2_score\n",
    "a=r2_score(y,y_hat)\n",
    "print(a)\n",
    "\n",
    "import pickle\n",
    "f1=open(\"reg_model.pkl\",\"wb\") #make a pickle file in new directory\n",
    "pickle.dump(y_hat,f1)\n",
    "f1.close()\n",
    "\n"
   ]
  }
 ],
 "metadata": {
  "kernelspec": {
   "display_name": "Python 3",
   "language": "python",
   "name": "python3"
  },
  "language_info": {
   "codemirror_mode": {
    "name": "ipython",
    "version": 3
   },
   "file_extension": ".py",
   "mimetype": "text/x-python",
   "name": "python",
   "nbconvert_exporter": "python",
   "pygments_lexer": "ipython3",
   "version": "3.7.3"
  }
 },
 "nbformat": 4,
 "nbformat_minor": 5
}
